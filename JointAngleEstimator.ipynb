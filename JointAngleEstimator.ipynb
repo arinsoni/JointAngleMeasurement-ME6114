{
 "cells": [
  {
   "cell_type": "code",
   "execution_count": null,
   "metadata": {},
   "outputs": [],
   "source": [
    "!pip install mediapipe\n"
   ]
  },
  {
   "cell_type": "code",
   "execution_count": null,
   "metadata": {},
   "outputs": [],
   "source": [
    "import cv2\n",
    "import mediapipe \n",
    "\n",
    "utils = mediapipe.solutions.drawing_utils\n",
    "poses = mediapipe.solutions.pose"
   ]
  },
  {
   "cell_type": "code",
   "execution_count": null,
   "metadata": {},
   "outputs": [],
   "source": [
    "cap = cv2.VideoCapture(0)\n",
    "\n",
    "with poses.Pose(min_detection_confidence=0.5, min_tracking_confidence=0.5) as pose:\n",
    "    while cap.isOpened():\n",
    "        ret, frame = cap.read()\n",
    "        results = pose.process(frame)\n",
    "        try:\n",
    "            nodes = results.pose_landmarks.landmark\n",
    "            print(nodes)\n",
    "        except:\n",
    "            pass\n",
    "        utils.draw_landmarks(frame, results.pose_landmarks, poses.POSE_CONNECTIONS)               \n",
    "        \n",
    "        cv2.imshow('Move it', frame)\n",
    "\n",
    "        if cv2.waitKey(10) & 0xFF == ord('q'):\n",
    "            break\n",
    "\n",
    "    cap.release()\n",
    "    cv2.destroyAllWindows()"
   ]
  },
  {
   "cell_type": "code",
   "execution_count": null,
   "metadata": {},
   "outputs": [],
   "source": [
    "import np\n",
    "\n",
    "def get_angle(joint1,joint2,joint3):\n",
    "    j1 = np.array(joint1)\n",
    "    j2 = np.array(joint2) \n",
    "    j3 = np.array(joint3) \n",
    "    \n",
    "    radians = np.arctan2(\n",
    "        joint3[1]-joint2[1], joint3[0]-joint2[0])- np.arctan2(joint1[1]-joint2[1], joint1[0]-joint2[0])\n",
    "\n",
    "    angle = np.abs(radians*180.0/np.pi)\n",
    "    \n",
    "    if angle > 180.0:\n",
    "        angle = 360-angle\n",
    "        \n",
    "    return angle "
   ]
  },
  {
   "cell_type": "code",
   "execution_count": null,
   "metadata": {},
   "outputs": [],
   "source": [
    "joint1 = [nodes[mp_pose.PoseLandmark.LEFT_SHOULDER.value].x,nodes[mp_pose.PoseLandmark.LEFT_SHOULDER.value].y]"
   ]
  },
  {
   "cell_type": "code",
   "execution_count": null,
   "metadata": {},
   "outputs": [],
   "source": [
    "joint2 = [nodes[mp_pose.PoseLandmark.LEFT_ELBOW.value].x,nodes[mp_pose.PoseLandmark.LEFT_ELBOW.value].y]"
   ]
  },
  {
   "cell_type": "code",
   "execution_count": null,
   "metadata": {},
   "outputs": [],
   "source": [
    "joint3 = [nodes[mp_pose.PoseLandmark.LEFT_WRIST.value].x,nodes[mp_pose.PoseLandmark.LEFT_WRIST.value].y]"
   ]
  },
  {
   "cell_type": "code",
   "execution_count": null,
   "metadata": {},
   "outputs": [],
   "source": [
    "get_angle(joint1, joint2, joint3)"
   ]
  },
  {
   "cell_type": "code",
   "execution_count": null,
   "metadata": {},
   "outputs": [],
   "source": []
  }
 ],
 "metadata": {
  "kernelspec": {
   "display_name": "myenv",
   "language": "python",
   "name": "myenv"
  },
  "language_info": {
   "codemirror_mode": {
    "name": "ipython",
    "version": 3
   },
   "file_extension": ".py",
   "mimetype": "text/x-python",
   "name": "python",
   "nbconvert_exporter": "python",
   "pygments_lexer": "ipython3",
   "version": "3.10.12"
  }
 },
 "nbformat": 4,
 "nbformat_minor": 4
}
